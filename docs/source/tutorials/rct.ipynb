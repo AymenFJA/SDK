{
 "cells": [
  {
   "cell_type": "markdown",
   "id": "77f680e6",
   "metadata": {},
   "source": [
    "# RADICAL-Cybertools Tutorial\n",
    "\n",
    "RADICAL-Cybertools support the execution of ensemble applications at scale on high performance computing (HPC) platforms. Ensemble applications enable using diverse algorithms to coordinate the execution of up to $10^6$ tasks on all the processors (CPU/GPU) of an HPC machine. This type of applications are common in biophysical systems, climate science, seismology, and polar science domains. RADICAL-Cybertools address challenges of scale, diversity and reliability.\n",
    "\n",
    "Adaptive ensemble are a particularly interesting type of ensemble applications in which adaptivity is used to determine the behavior of the application at runtime. For example, many biomolecular sampling algorithms are formulated as adaptive: replica-exchange, Expanded Ensemble, etc. Introducing adaptivity, improved simulation efficiency of up to a factor three but implementing adaptive ensemble applications is challenging due to the complexity of the required algorithms."
   ]
  },
  {
   "cell_type": "markdown",
   "id": "0718844a",
   "metadata": {},
   "source": [
    "## RADICAL-EnsembleToolkit (EnTK)\n",
    "\n",
    "RADICAL-Cybertools offers [RADICAL-EnsembleToolkit (EnTK)](https://radicalentk.readthedocs.io/en/stable/index.html), a workflow engine specifically designed to support the execution of (adaptive) ensemble applications at scale on HPC platforms. EnTK allows users to separate adaptive logic and simulation/analysis code, while abstracting away from the users issues of resource management and resource management and runtime execution coordination. \n",
    "\n",
    "EnTK exposes a simple application programming interface (API), implemented in Python and with two (Pythonic) collections of objects and three classes:\n",
    "* Set: contains objects that have no relative order with each other\n",
    "* Sequence/List: contains objects that have a linear order, i.e. object 'i' depends on object 'i-1'\n",
    "* Task: description of executing kernel\n",
    "* Stage: set of Tasks, i.e. all tasks of a stage may execute concurrently\n",
    "* Pipeline: sequence of Stages, i.e., Stage 2 may only commence after Stage 1 completes\n",
    "\n",
    "Thus, in EnTK an ensemble application is described as a set of pipelines, in which each pipiline has a sequence/list of stages, and each stage has a set of tasks. The following figure shows an example of ensemble application in which tasks are represented by arrows:\n",
    "\n",
    "![](images/pst-model.jpg \"Application model of RADICAL-EnsembleToolkit: pipeline, stage and task\")"
   ]
  },
  {
   "cell_type": "markdown",
   "id": "4a1580ee",
   "metadata": {},
   "source": [
    "## Preparing the Execution Environment\n",
    "\n",
    "As we will be executing this tutorial within a Jupyter notebook, we install EnTK directly into the notebook kernel via `pip`, but we could also equally use `conda`.\n",
    "\n",
    "<div class=\"alert alert-block alert-info\"><b>Note:</b> We \"mute\" the output of the cell with `%%capture capt` to not pollute the notebook output.</div>\n",
    "\n",
    "Depending on the execution environment, you may want to use the Spack package or the container provided by Exaworks SDK, or load the module provided by the administrators of the high performance computing (HPC) platform on which you are executing this tutorial."
   ]
  },
  {
   "cell_type": "code",
   "execution_count": null,
   "id": "ba1877d8",
   "metadata": {
    "ExecuteTime": {
     "end_time": "2022-02-18T23:40:47.839850Z",
     "start_time": "2022-02-18T23:40:46.305137Z"
    }
   },
   "outputs": [],
   "source": [
    "%%capture capt\n",
    "\n",
    "%pip install radical.entk"
   ]
  },
  {
   "cell_type": "markdown",
   "id": "240f65de",
   "metadata": {},
   "source": [
    "Currently, EnTK and its runtime system RADICAL-Pilot require a RabbitMQ and MongoDB server. Those serves need to be deployed and made publicaly available before using EnTK. Here we set the access parameters for the servers:"
   ]
  },
  {
   "cell_type": "code",
   "execution_count": null,
   "id": "53195bcc",
   "metadata": {
    "ExecuteTime": {
     "end_time": "2022-02-18T23:40:49.499589Z",
     "start_time": "2022-02-18T23:40:49.492038Z"
    }
   },
   "outputs": [],
   "source": [
    "import os\n",
    "\n",
    "rmq_host = os.environ.get('RMQ_SERVER')\n",
    "rmq_port = os.environ.get('RMQ_PORT')\n",
    "rmq_name = os.environ.get('RMQ_NAME')\n",
    "rmq_pswd = os.environ.get('RMQ_PSWD')\n",
    "\n",
    "mdb_host = os.environ.get('MDB_SERVER')\n",
    "mdb_port = os.environ.get('MDB_PORT')\n",
    "mdb_name = os.environ.get('MDB_NAME')\n",
    "mdb_pswd = os.environ.get('MDB_PSWD')\n",
    "mdb_dtbs = os.environ.get('MDB_DTBS')\n",
    "\n",
    "%env RADICAL_PILOT_DBURL=mongodb://$mdb_name:$mdb_pswd@$mdb_host:$mdb_port/$mdb_dtbs"
   ]
  },
  {
   "cell_type": "markdown",
   "id": "bbf6a6d1",
   "metadata": {},
   "source": [
    "# Example 1: Ensemble of Simulation Pipelines\n",
    "\n",
    "The following example application shows the execution of a simple ensemble of simulations. Each ensemble member is in itself a pipeline of three different stages:\n",
    "\n",
    "1. generate a random seed as input data\n",
    "2. evolve a model based on that input data via a set of ensembles\n",
    "3. derive a common metric across the model results\n",
    "\n",
    "Similar patterns are frequently found in molecular dynamics simulation workflows. For the purpose of this tutorial, the stages are:\n",
    "\n",
    "- random seed  : create a random number\n",
    "- evolve model : N tasks computing n'th power of the input\n",
    "- common metric: sum over all 'model' outputs\n",
    "\n",
    "The final results are then staged back and printed on STDOUT.\n",
    "\n",
    "The following image offers a representation of the application we are going to code and then run for Example 1.\n",
    "\n",
    "![](images/entk_example1_app.png \"Example 1: Ensemble application with 2 pipelines.\")\n",
    "\n",
    "The two pipelines execute concurrently and, as per EnTK API definitions, each stage inside each pipeline executes sequentially. Importantly, when a stage contains **multiple** tasks, all those tasks can execute concurrently, assuming that enough resources are available. Given a set of resources, EnTK always executes the ensemble application with the highest possible degree of concurrency but, when not enough resources are available, the tasks of a stage may be executed sequentially. All this is transparent to the user that is left free to focus on the ensemble algorithm without having to deal with parallelism and resource management."
   ]
  },
  {
   "cell_type": "markdown",
   "id": "39d40bda",
   "metadata": {},
   "source": [
    "First we import EnTK Python module in our application so to be able to use its API."
   ]
  },
  {
   "cell_type": "code",
   "execution_count": null,
   "id": "77692350",
   "metadata": {
    "ExecuteTime": {
     "end_time": "2022-02-18T23:40:53.408213Z",
     "start_time": "2022-02-18T23:40:52.642549Z"
    }
   },
   "outputs": [],
   "source": [
    "import radical.entk as re"
   ]
  },
  {
   "cell_type": "markdown",
   "id": "a31dfd5c",
   "metadata": {},
   "source": [
    "The following function generates a single simulation pipeline, i.e., a new ensemble member. The pipeline structure consisting of three steps as described above."
   ]
  },
  {
   "cell_type": "code",
   "execution_count": null,
   "id": "396cb007",
   "metadata": {
    "ExecuteTime": {
     "end_time": "2022-02-18T23:40:54.566118Z",
     "start_time": "2022-02-18T23:40:54.558545Z"
    }
   },
   "outputs": [],
   "source": [
    "def generate_pipeline(uid):\n",
    "\n",
    "    # all tasks in this pipeline share the same sandbox\n",
    "    sandbox = uid\n",
    "\n",
    "    # first stage: create 1 task to generate a random seed number\n",
    "    t1 = re.Task()\n",
    "    t1.executable = '/bin/sh'\n",
    "    t1.arguments  = ['-c', 'od -An -N1 -i /dev/random']\n",
    "    t1.stdout     = 'random.txt'\n",
    "    t1.sandbox    = sandbox\n",
    "\n",
    "    s1 = re.Stage()\n",
    "    s1.add_tasks(t1)\n",
    "\n",
    "    # second stage: create 10 tasks to compute the n'th power of that number\n",
    "    s2 = re.Stage()\n",
    "    n_simulations = 10\n",
    "    for i in range(n_simulations):\n",
    "        t2 = re.Task()\n",
    "        t2.executable = '/bin/sh'\n",
    "        t2.arguments  = ['-c', 'echo \"$(cat random.txt) ^ %d\" | bc' % i]\n",
    "        t2.stdout     = 'power.%03d.txt' % i\n",
    "        t2.sandbox    = sandbox\n",
    "        s2.add_tasks(t2)\n",
    "\n",
    "    # third stage: compute sum over all powers\n",
    "    t3 = re.Task()\n",
    "    t3.executable = '/bin/sh'\n",
    "    t3.arguments  = ['-c', 'cat power.*.txt | paste -sd+ | bc']\n",
    "    t3.stdout     = 'sum.txt'\n",
    "    t3.sandbox    = sandbox\n",
    "\n",
    "    # download the result while renaming to get unique files per pipeline\n",
    "    t3.download_output_data = ['sum.txt > %s.sum.txt' % uid]\n",
    "\n",
    "    s3 = re.Stage()\n",
    "    s3.add_tasks(t3)\n",
    "\n",
    "    # assemble the three stages into a pipeline and return it\n",
    "    p = re.Pipeline()\n",
    "    p.add_stages(s1)\n",
    "    p.add_stages(s2)\n",
    "    p.add_stages(s3)\n",
    "\n",
    "    return p"
   ]
  },
  {
   "cell_type": "markdown",
   "id": "ac289f3f",
   "metadata": {},
   "source": [
    "Now we write the ensemble application. We create an EnTK's application manager which executes our ensemble."
   ]
  },
  {
   "cell_type": "code",
   "execution_count": null,
   "id": "6099dc3e",
   "metadata": {
    "ExecuteTime": {
     "end_time": "2022-02-18T23:40:58.797077Z",
     "start_time": "2022-02-18T23:40:56.111360Z"
    }
   },
   "outputs": [],
   "source": [
    "appman = re.AppManager(hostname=rmq_host, \n",
    "                       port=rmq_port, \n",
    "                       username=rmq_name,\n",
    "                       password=rmq_pswd)"
   ]
  },
  {
   "cell_type": "markdown",
   "id": "d1d09986",
   "metadata": {},
   "source": [
    "We assign resource request description to the application manager using three mandatory keys: target resource, walltime, and number of cpus:"
   ]
  },
  {
   "cell_type": "code",
   "execution_count": null,
   "id": "8bdf0026",
   "metadata": {
    "ExecuteTime": {
     "end_time": "2022-02-18T23:40:58.806508Z",
     "start_time": "2022-02-18T23:40:58.800448Z"
    }
   },
   "outputs": [],
   "source": [
    "appman.resource_desc = {\n",
    "    'resource': 'local.localhost',\n",
    "  # 'resource': 'local.localhost_flux',\n",
    "    'walltime': 10,\n",
    "    'cpus'    : 2\n",
    "}"
   ]
  },
  {
   "cell_type": "markdown",
   "id": "a9dc2639",
   "metadata": {},
   "source": [
    "We create an ensemble of n simulation pipelines:"
   ]
  },
  {
   "cell_type": "code",
   "execution_count": null,
   "id": "b4cc5862",
   "metadata": {
    "ExecuteTime": {
     "end_time": "2022-02-18T23:41:02.495410Z",
     "start_time": "2022-02-18T23:41:02.457697Z"
    }
   },
   "outputs": [],
   "source": [
    "n_pipelines = 10\n",
    "ensemble = set()\n",
    "for cnt in range(n_pipelines):\n",
    "    ensemble.add(generate_pipeline(uid='pipe.%03d' % cnt))"
   ]
  },
  {
   "cell_type": "markdown",
   "id": "7733826a",
   "metadata": {},
   "source": [
    "We assign the workflow to the application manager, then run the ensemble and wait for completion:"
   ]
  },
  {
   "cell_type": "code",
   "execution_count": null,
   "id": "4e42ba7d",
   "metadata": {
    "ExecuteTime": {
     "start_time": "2022-02-18T23:41:04.310Z"
    }
   },
   "outputs": [],
   "source": [
    "appman.workflow = ensemble\n",
    "appman.run()"
   ]
  },
  {
   "cell_type": "markdown",
   "id": "f8376e48",
   "metadata": {},
   "source": [
    "We check results which were staged back"
   ]
  },
  {
   "cell_type": "code",
   "execution_count": null,
   "id": "7694b4fe",
   "metadata": {
    "ExecuteTime": {
     "end_time": "2022-02-18T23:36:06.186898Z",
     "start_time": "2022-02-18T23:36:06.170074Z"
    }
   },
   "outputs": [],
   "source": [
    "for cnt in range(n_pipelines):\n",
    "    data = open('pipe.%03d.sum.txt' % cnt).read()\n",
    "    result = int(data)\n",
    "    print('%3d -- %25d' % (cnt, result))"
   ]
  },
  {
   "cell_type": "code",
   "execution_count": null,
   "id": "d7328629",
   "metadata": {},
   "outputs": [],
   "source": []
  }
 ],
 "metadata": {
  "kernelspec": {
   "display_name": "Python 3 (ipykernel)",
   "language": "python",
   "name": "python3"
  },
  "language_info": {
   "codemirror_mode": {
    "name": "ipython",
    "version": 3
   },
   "file_extension": ".py",
   "mimetype": "text/x-python",
   "name": "python",
   "nbconvert_exporter": "python",
   "pygments_lexer": "ipython3",
   "version": "3.9.10"
  }
 },
 "nbformat": 4,
 "nbformat_minor": 5
}
